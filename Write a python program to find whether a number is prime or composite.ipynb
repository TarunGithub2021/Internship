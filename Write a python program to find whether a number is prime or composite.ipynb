{
 "cells": [
  {
   "cell_type": "code",
   "execution_count": 14,
   "id": "5de39516",
   "metadata": {},
   "outputs": [
    {
     "name": "stdout",
     "output_type": "stream",
     "text": [
      "Eneter any number:4\n",
      "4 is a composite number\n"
     ]
    }
   ],
   "source": [
    "num=int(input('Eneter any number:'))\n",
    "if num>1:\n",
    "    for i in range(2,num):\n",
    "        if (num%i)==0:\n",
    "            print(num,'is a composite number')\n",
    "            break\n",
    "            \n",
    "    else:\n",
    "        print(num,\"is a prime number\")\n",
    "elif num==0 or 1:\n",
    "    print (num, 'is a neither prime number nor composite number')\n",
    "else:\n",
    "    print(num,'is not a prime number it is a composite number')"
   ]
  },
  {
   "cell_type": "code",
   "execution_count": null,
   "id": "9f2cae45",
   "metadata": {},
   "outputs": [],
   "source": []
  },
  {
   "cell_type": "code",
   "execution_count": null,
   "id": "be5e7034",
   "metadata": {},
   "outputs": [],
   "source": []
  }
 ],
 "metadata": {
  "kernelspec": {
   "display_name": "Python 3",
   "language": "python",
   "name": "python3"
  },
  "language_info": {
   "codemirror_mode": {
    "name": "ipython",
    "version": 3
   },
   "file_extension": ".py",
   "mimetype": "text/x-python",
   "name": "python",
   "nbconvert_exporter": "python",
   "pygments_lexer": "ipython3",
   "version": "3.8.8"
  }
 },
 "nbformat": 4,
 "nbformat_minor": 5
}
